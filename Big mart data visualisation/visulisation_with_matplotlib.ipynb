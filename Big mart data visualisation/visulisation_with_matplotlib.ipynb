{
  "nbformat": 4,
  "nbformat_minor": 0,
  "metadata": {
    "colab": {
      "name": "visulisation_with_matplotlib.ipynb",
      "provenance": [],
      "collapsed_sections": [],
      "authorship_tag": "ABX9TyNCO9esj2uqs0eFVob1ZGFJ"
    },
    "kernelspec": {
      "name": "python3",
      "display_name": "Python 3"
    },
    "language_info": {
      "name": "python"
    }
  },
  "cells": [
    {
      "cell_type": "markdown",
      "source": [
        "# Visualisation of data using matplotlib"
      ],
      "metadata": {
        "id": "gvLL2ydyk6XN"
      }
    },
    {
      "cell_type": "code",
      "source": [
        "from google.colab import drive\n",
        "drive.mount('/content/gdrive')"
      ],
      "metadata": {
        "colab": {
          "base_uri": "https://localhost:8080/"
        },
        "id": "96JuwIm-lpXa",
        "outputId": "f4e88deb-47b4-4a19-d633-c0340627bf57"
      },
      "execution_count": null,
      "outputs": [
        {
          "output_type": "stream",
          "name": "stdout",
          "text": [
            "Mounted at /content/gdrive\n"
          ]
        }
      ]
    },
    {
      "cell_type": "code",
      "execution_count": null,
      "metadata": {
        "id": "5dEJsQoLkeul"
      },
      "outputs": [],
      "source": [
        "import pandas as pd\n",
        "import numpy as np\n",
        "import matplotlib.pyplot as plt\n",
        "%matplotlib inline"
      ]
    },
    {
      "cell_type": "code",
      "source": [
        "from google.colab import data_table\n",
        "data_table.enable_dataframe_formatter()"
      ],
      "metadata": {
        "id": "ya3AYr5Jmxbj"
      },
      "execution_count": null,
      "outputs": []
    },
    {
      "cell_type": "markdown",
      "source": [
        "# Importing data "
      ],
      "metadata": {
        "id": "EC5iigSgleKI"
      }
    },
    {
      "cell_type": "code",
      "source": [
        "Big_mart_data=pd.read_csv('/content/gdrive/MyDrive/machine learning /analytics_vidhya /bigmart_data.csv')"
      ],
      "metadata": {
        "id": "t1bwCk4olbFD"
      },
      "execution_count": null,
      "outputs": []
    },
    {
      "cell_type": "code",
      "source": [
        "Big_mart_data.head()"
      ],
      "metadata": {
        "colab": {
          "base_uri": "https://localhost:8080/",
          "height": 295
        },
        "id": "oIM5EULamLek",
        "outputId": "af15d0a7-1ab1-40d1-a7a7-aee3658ec849"
      },
      "execution_count": null,
      "outputs": [
        {
          "output_type": "execute_result",
          "data": {
            "application/vnd.google.colaboratory.module+javascript": "\n      import \"https://ssl.gstatic.com/colaboratory/data_table/a6224c040fa35dcf/data_table.js\";\n\n      window.createDataTable({\n        data: [[{\n            'v': 0,\n            'f': \"0\",\n        },\n\"FDA15\",\n{\n            'v': 9.3,\n            'f': \"9.3\",\n        },\n\"Low Fat\",\n{\n            'v': 0.016047301,\n            'f': \"0.016047301\",\n        },\n\"Dairy\",\n{\n            'v': 249.8092,\n            'f': \"249.8092\",\n        },\n\"OUT049\",\n{\n            'v': 1999,\n            'f': \"1999\",\n        },\n\"Medium\",\n\"Tier 1\",\n\"Supermarket Type1\",\n{\n            'v': 3735.138,\n            'f': \"3735.138\",\n        }],\n [{\n            'v': 1,\n            'f': \"1\",\n        },\n\"DRC01\",\n{\n            'v': 5.92,\n            'f': \"5.92\",\n        },\n\"Regular\",\n{\n            'v': 0.019278216,\n            'f': \"0.019278216\",\n        },\n\"Soft Drinks\",\n{\n            'v': 48.2692,\n            'f': \"48.2692\",\n        },\n\"OUT018\",\n{\n            'v': 2009,\n            'f': \"2009\",\n        },\n\"Medium\",\n\"Tier 3\",\n\"Supermarket Type2\",\n{\n            'v': 443.4228,\n            'f': \"443.4228\",\n        }],\n [{\n            'v': 2,\n            'f': \"2\",\n        },\n\"FDN15\",\n{\n            'v': 17.5,\n            'f': \"17.5\",\n        },\n\"Low Fat\",\n{\n            'v': 0.016760075,\n            'f': \"0.016760075\",\n        },\n\"Meat\",\n{\n            'v': 141.618,\n            'f': \"141.618\",\n        },\n\"OUT049\",\n{\n            'v': 1999,\n            'f': \"1999\",\n        },\n\"Medium\",\n\"Tier 1\",\n\"Supermarket Type1\",\n{\n            'v': 2097.27,\n            'f': \"2097.27\",\n        }],\n [{\n            'v': 3,\n            'f': \"3\",\n        },\n\"FDX07\",\n{\n            'v': 19.2,\n            'f': \"19.2\",\n        },\n\"Regular\",\n{\n            'v': 0.0,\n            'f': \"0.0\",\n        },\n\"Fruits and Vegetables\",\n{\n            'v': 182.095,\n            'f': \"182.095\",\n        },\n\"OUT010\",\n{\n            'v': 1998,\n            'f': \"1998\",\n        },\nNaN,\n\"Tier 3\",\n\"Grocery Store\",\n{\n            'v': 732.38,\n            'f': \"732.38\",\n        }],\n [{\n            'v': 4,\n            'f': \"4\",\n        },\n\"NCD19\",\n{\n            'v': 8.93,\n            'f': \"8.93\",\n        },\n\"Low Fat\",\n{\n            'v': 0.0,\n            'f': \"0.0\",\n        },\n\"Household\",\n{\n            'v': 53.8614,\n            'f': \"53.8614\",\n        },\n\"OUT013\",\n{\n            'v': 1987,\n            'f': \"1987\",\n        },\n\"High\",\n\"Tier 3\",\n\"Supermarket Type1\",\n{\n            'v': 994.7052,\n            'f': \"994.7052\",\n        }]],\n        columns: [[\"number\", \"index\"], [\"string\", \"Item_Identifier\"], [\"number\", \"Item_Weight\"], [\"string\", \"Item_Fat_Content\"], [\"number\", \"Item_Visibility\"], [\"string\", \"Item_Type\"], [\"number\", \"Item_MRP\"], [\"string\", \"Outlet_Identifier\"], [\"number\", \"Outlet_Establishment_Year\"], [\"string\", \"Outlet_Size\"], [\"string\", \"Outlet_Location_Type\"], [\"string\", \"Outlet_Type\"], [\"number\", \"Item_Outlet_Sales\"]],\n        columnOptions: [{\"width\": \"1px\", \"className\": \"index_column\"}],\n        rowsPerPage: 25,\n        helpUrl: \"https://colab.research.google.com/notebooks/data_table.ipynb\",\n        suppressOutputScrolling: true,\n        minimumWidth: undefined,\n      });\n    ",
            "text/html": [
              "\n",
              "  <div id=\"df-82c78041-f650-41a0-9153-bbbb91320248\">\n",
              "    <div class=\"colab-df-container\">\n",
              "      <div>\n",
              "<style scoped>\n",
              "    .dataframe tbody tr th:only-of-type {\n",
              "        vertical-align: middle;\n",
              "    }\n",
              "\n",
              "    .dataframe tbody tr th {\n",
              "        vertical-align: top;\n",
              "    }\n",
              "\n",
              "    .dataframe thead th {\n",
              "        text-align: right;\n",
              "    }\n",
              "</style>\n",
              "<table border=\"1\" class=\"dataframe\">\n",
              "  <thead>\n",
              "    <tr style=\"text-align: right;\">\n",
              "      <th></th>\n",
              "      <th>Item_Identifier</th>\n",
              "      <th>Item_Weight</th>\n",
              "      <th>Item_Fat_Content</th>\n",
              "      <th>Item_Visibility</th>\n",
              "      <th>Item_Type</th>\n",
              "      <th>Item_MRP</th>\n",
              "      <th>Outlet_Identifier</th>\n",
              "      <th>Outlet_Establishment_Year</th>\n",
              "      <th>Outlet_Size</th>\n",
              "      <th>Outlet_Location_Type</th>\n",
              "      <th>Outlet_Type</th>\n",
              "      <th>Item_Outlet_Sales</th>\n",
              "    </tr>\n",
              "  </thead>\n",
              "  <tbody>\n",
              "    <tr>\n",
              "      <th>0</th>\n",
              "      <td>FDA15</td>\n",
              "      <td>9.30</td>\n",
              "      <td>Low Fat</td>\n",
              "      <td>0.016047</td>\n",
              "      <td>Dairy</td>\n",
              "      <td>249.8092</td>\n",
              "      <td>OUT049</td>\n",
              "      <td>1999</td>\n",
              "      <td>Medium</td>\n",
              "      <td>Tier 1</td>\n",
              "      <td>Supermarket Type1</td>\n",
              "      <td>3735.1380</td>\n",
              "    </tr>\n",
              "    <tr>\n",
              "      <th>1</th>\n",
              "      <td>DRC01</td>\n",
              "      <td>5.92</td>\n",
              "      <td>Regular</td>\n",
              "      <td>0.019278</td>\n",
              "      <td>Soft Drinks</td>\n",
              "      <td>48.2692</td>\n",
              "      <td>OUT018</td>\n",
              "      <td>2009</td>\n",
              "      <td>Medium</td>\n",
              "      <td>Tier 3</td>\n",
              "      <td>Supermarket Type2</td>\n",
              "      <td>443.4228</td>\n",
              "    </tr>\n",
              "    <tr>\n",
              "      <th>2</th>\n",
              "      <td>FDN15</td>\n",
              "      <td>17.50</td>\n",
              "      <td>Low Fat</td>\n",
              "      <td>0.016760</td>\n",
              "      <td>Meat</td>\n",
              "      <td>141.6180</td>\n",
              "      <td>OUT049</td>\n",
              "      <td>1999</td>\n",
              "      <td>Medium</td>\n",
              "      <td>Tier 1</td>\n",
              "      <td>Supermarket Type1</td>\n",
              "      <td>2097.2700</td>\n",
              "    </tr>\n",
              "    <tr>\n",
              "      <th>3</th>\n",
              "      <td>FDX07</td>\n",
              "      <td>19.20</td>\n",
              "      <td>Regular</td>\n",
              "      <td>0.000000</td>\n",
              "      <td>Fruits and Vegetables</td>\n",
              "      <td>182.0950</td>\n",
              "      <td>OUT010</td>\n",
              "      <td>1998</td>\n",
              "      <td>NaN</td>\n",
              "      <td>Tier 3</td>\n",
              "      <td>Grocery Store</td>\n",
              "      <td>732.3800</td>\n",
              "    </tr>\n",
              "    <tr>\n",
              "      <th>4</th>\n",
              "      <td>NCD19</td>\n",
              "      <td>8.93</td>\n",
              "      <td>Low Fat</td>\n",
              "      <td>0.000000</td>\n",
              "      <td>Household</td>\n",
              "      <td>53.8614</td>\n",
              "      <td>OUT013</td>\n",
              "      <td>1987</td>\n",
              "      <td>High</td>\n",
              "      <td>Tier 3</td>\n",
              "      <td>Supermarket Type1</td>\n",
              "      <td>994.7052</td>\n",
              "    </tr>\n",
              "  </tbody>\n",
              "</table>\n",
              "</div>\n",
              "      <button class=\"colab-df-convert\" onclick=\"convertToInteractive('df-82c78041-f650-41a0-9153-bbbb91320248')\"\n",
              "              title=\"Convert this dataframe to an interactive table.\"\n",
              "              style=\"display:none;\">\n",
              "        \n",
              "  <svg xmlns=\"http://www.w3.org/2000/svg\" height=\"24px\"viewBox=\"0 0 24 24\"\n",
              "       width=\"24px\">\n",
              "    <path d=\"M0 0h24v24H0V0z\" fill=\"none\"/>\n",
              "    <path d=\"M18.56 5.44l.94 2.06.94-2.06 2.06-.94-2.06-.94-.94-2.06-.94 2.06-2.06.94zm-11 1L8.5 8.5l.94-2.06 2.06-.94-2.06-.94L8.5 2.5l-.94 2.06-2.06.94zm10 10l.94 2.06.94-2.06 2.06-.94-2.06-.94-.94-2.06-.94 2.06-2.06.94z\"/><path d=\"M17.41 7.96l-1.37-1.37c-.4-.4-.92-.59-1.43-.59-.52 0-1.04.2-1.43.59L10.3 9.45l-7.72 7.72c-.78.78-.78 2.05 0 2.83L4 21.41c.39.39.9.59 1.41.59.51 0 1.02-.2 1.41-.59l7.78-7.78 2.81-2.81c.8-.78.8-2.07 0-2.86zM5.41 20L4 18.59l7.72-7.72 1.47 1.35L5.41 20z\"/>\n",
              "  </svg>\n",
              "      </button>\n",
              "      \n",
              "  <style>\n",
              "    .colab-df-container {\n",
              "      display:flex;\n",
              "      flex-wrap:wrap;\n",
              "      gap: 12px;\n",
              "    }\n",
              "\n",
              "    .colab-df-convert {\n",
              "      background-color: #E8F0FE;\n",
              "      border: none;\n",
              "      border-radius: 50%;\n",
              "      cursor: pointer;\n",
              "      display: none;\n",
              "      fill: #1967D2;\n",
              "      height: 32px;\n",
              "      padding: 0 0 0 0;\n",
              "      width: 32px;\n",
              "    }\n",
              "\n",
              "    .colab-df-convert:hover {\n",
              "      background-color: #E2EBFA;\n",
              "      box-shadow: 0px 1px 2px rgba(60, 64, 67, 0.3), 0px 1px 3px 1px rgba(60, 64, 67, 0.15);\n",
              "      fill: #174EA6;\n",
              "    }\n",
              "\n",
              "    [theme=dark] .colab-df-convert {\n",
              "      background-color: #3B4455;\n",
              "      fill: #D2E3FC;\n",
              "    }\n",
              "\n",
              "    [theme=dark] .colab-df-convert:hover {\n",
              "      background-color: #434B5C;\n",
              "      box-shadow: 0px 1px 3px 1px rgba(0, 0, 0, 0.15);\n",
              "      filter: drop-shadow(0px 1px 2px rgba(0, 0, 0, 0.3));\n",
              "      fill: #FFFFFF;\n",
              "    }\n",
              "  </style>\n",
              "\n",
              "      <script>\n",
              "        const buttonEl =\n",
              "          document.querySelector('#df-82c78041-f650-41a0-9153-bbbb91320248 button.colab-df-convert');\n",
              "        buttonEl.style.display =\n",
              "          google.colab.kernel.accessAllowed ? 'block' : 'none';\n",
              "\n",
              "        async function convertToInteractive(key) {\n",
              "          const element = document.querySelector('#df-82c78041-f650-41a0-9153-bbbb91320248');\n",
              "          const dataTable =\n",
              "            await google.colab.kernel.invokeFunction('convertToInteractive',\n",
              "                                                     [key], {});\n",
              "          if (!dataTable) return;\n",
              "\n",
              "          const docLinkHtml = 'Like what you see? Visit the ' +\n",
              "            '<a target=\"_blank\" href=https://colab.research.google.com/notebooks/data_table.ipynb>data table notebook</a>'\n",
              "            + ' to learn more about interactive tables.';\n",
              "          element.innerHTML = '';\n",
              "          dataTable['output_type'] = 'display_data';\n",
              "          await google.colab.output.renderOutput(dataTable, element);\n",
              "          const docLink = document.createElement('div');\n",
              "          docLink.innerHTML = docLinkHtml;\n",
              "          element.appendChild(docLink);\n",
              "        }\n",
              "      </script>\n",
              "    </div>\n",
              "  </div>\n",
              "  "
            ],
            "text/plain": [
              "  Item_Identifier  Item_Weight  ...        Outlet_Type  Item_Outlet_Sales\n",
              "0           FDA15         9.30  ...  Supermarket Type1          3735.1380\n",
              "1           DRC01         5.92  ...  Supermarket Type2           443.4228\n",
              "2           FDN15        17.50  ...  Supermarket Type1          2097.2700\n",
              "3           FDX07        19.20  ...      Grocery Store           732.3800\n",
              "4           NCD19         8.93  ...  Supermarket Type1           994.7052\n",
              "\n",
              "[5 rows x 12 columns]"
            ]
          },
          "metadata": {},
          "execution_count": 5
        }
      ]
    },
    {
      "cell_type": "code",
      "source": [
        "Big_mart_data.dropna(how='any',inplace=True)\n",
        "Big_mart_data.head()"
      ],
      "metadata": {
        "id": "jnGXPcM2833D",
        "colab": {
          "base_uri": "https://localhost:8080/",
          "height": 295
        },
        "outputId": "dd7ab055-8cb6-4e8f-db0f-41fe0ee0c1f0"
      },
      "execution_count": null,
      "outputs": [
        {
          "output_type": "execute_result",
          "data": {
            "application/vnd.google.colaboratory.module+javascript": "\n      import \"https://ssl.gstatic.com/colaboratory/data_table/a6224c040fa35dcf/data_table.js\";\n\n      window.createDataTable({\n        data: [[{\n            'v': 0,\n            'f': \"0\",\n        },\n\"FDA15\",\n{\n            'v': 9.3,\n            'f': \"9.3\",\n        },\n\"Low Fat\",\n{\n            'v': 0.016047301,\n            'f': \"0.016047301\",\n        },\n\"Dairy\",\n{\n            'v': 249.8092,\n            'f': \"249.8092\",\n        },\n\"OUT049\",\n{\n            'v': 1999,\n            'f': \"1999\",\n        },\n\"Medium\",\n\"Tier 1\",\n\"Supermarket Type1\",\n{\n            'v': 3735.138,\n            'f': \"3735.138\",\n        }],\n [{\n            'v': 1,\n            'f': \"1\",\n        },\n\"DRC01\",\n{\n            'v': 5.92,\n            'f': \"5.92\",\n        },\n\"Regular\",\n{\n            'v': 0.019278216,\n            'f': \"0.019278216\",\n        },\n\"Soft Drinks\",\n{\n            'v': 48.2692,\n            'f': \"48.2692\",\n        },\n\"OUT018\",\n{\n            'v': 2009,\n            'f': \"2009\",\n        },\n\"Medium\",\n\"Tier 3\",\n\"Supermarket Type2\",\n{\n            'v': 443.4228,\n            'f': \"443.4228\",\n        }],\n [{\n            'v': 2,\n            'f': \"2\",\n        },\n\"FDN15\",\n{\n            'v': 17.5,\n            'f': \"17.5\",\n        },\n\"Low Fat\",\n{\n            'v': 0.016760075,\n            'f': \"0.016760075\",\n        },\n\"Meat\",\n{\n            'v': 141.618,\n            'f': \"141.618\",\n        },\n\"OUT049\",\n{\n            'v': 1999,\n            'f': \"1999\",\n        },\n\"Medium\",\n\"Tier 1\",\n\"Supermarket Type1\",\n{\n            'v': 2097.27,\n            'f': \"2097.27\",\n        }],\n [{\n            'v': 4,\n            'f': \"4\",\n        },\n\"NCD19\",\n{\n            'v': 8.93,\n            'f': \"8.93\",\n        },\n\"Low Fat\",\n{\n            'v': 0.0,\n            'f': \"0.0\",\n        },\n\"Household\",\n{\n            'v': 53.8614,\n            'f': \"53.8614\",\n        },\n\"OUT013\",\n{\n            'v': 1987,\n            'f': \"1987\",\n        },\n\"High\",\n\"Tier 3\",\n\"Supermarket Type1\",\n{\n            'v': 994.7052,\n            'f': \"994.7052\",\n        }],\n [{\n            'v': 5,\n            'f': \"5\",\n        },\n\"FDP36\",\n{\n            'v': 10.395,\n            'f': \"10.395\",\n        },\n\"Regular\",\n{\n            'v': 0.0,\n            'f': \"0.0\",\n        },\n\"Baking Goods\",\n{\n            'v': 51.4008,\n            'f': \"51.4008\",\n        },\n\"OUT018\",\n{\n            'v': 2009,\n            'f': \"2009\",\n        },\n\"Medium\",\n\"Tier 3\",\n\"Supermarket Type2\",\n{\n            'v': 556.6088,\n            'f': \"556.6088\",\n        }]],\n        columns: [[\"number\", \"index\"], [\"string\", \"Item_Identifier\"], [\"number\", \"Item_Weight\"], [\"string\", \"Item_Fat_Content\"], [\"number\", \"Item_Visibility\"], [\"string\", \"Item_Type\"], [\"number\", \"Item_MRP\"], [\"string\", \"Outlet_Identifier\"], [\"number\", \"Outlet_Establishment_Year\"], [\"string\", \"Outlet_Size\"], [\"string\", \"Outlet_Location_Type\"], [\"string\", \"Outlet_Type\"], [\"number\", \"Item_Outlet_Sales\"]],\n        columnOptions: [{\"width\": \"1px\", \"className\": \"index_column\"}],\n        rowsPerPage: 25,\n        helpUrl: \"https://colab.research.google.com/notebooks/data_table.ipynb\",\n        suppressOutputScrolling: true,\n        minimumWidth: undefined,\n      });\n    ",
            "text/html": [
              "\n",
              "  <div id=\"df-3ec5c56e-b9d3-4550-a91b-5acd2aebef27\">\n",
              "    <div class=\"colab-df-container\">\n",
              "      <div>\n",
              "<style scoped>\n",
              "    .dataframe tbody tr th:only-of-type {\n",
              "        vertical-align: middle;\n",
              "    }\n",
              "\n",
              "    .dataframe tbody tr th {\n",
              "        vertical-align: top;\n",
              "    }\n",
              "\n",
              "    .dataframe thead th {\n",
              "        text-align: right;\n",
              "    }\n",
              "</style>\n",
              "<table border=\"1\" class=\"dataframe\">\n",
              "  <thead>\n",
              "    <tr style=\"text-align: right;\">\n",
              "      <th></th>\n",
              "      <th>Item_Identifier</th>\n",
              "      <th>Item_Weight</th>\n",
              "      <th>Item_Fat_Content</th>\n",
              "      <th>Item_Visibility</th>\n",
              "      <th>Item_Type</th>\n",
              "      <th>Item_MRP</th>\n",
              "      <th>Outlet_Identifier</th>\n",
              "      <th>Outlet_Establishment_Year</th>\n",
              "      <th>Outlet_Size</th>\n",
              "      <th>Outlet_Location_Type</th>\n",
              "      <th>Outlet_Type</th>\n",
              "      <th>Item_Outlet_Sales</th>\n",
              "    </tr>\n",
              "  </thead>\n",
              "  <tbody>\n",
              "    <tr>\n",
              "      <th>0</th>\n",
              "      <td>FDA15</td>\n",
              "      <td>9.300</td>\n",
              "      <td>Low Fat</td>\n",
              "      <td>0.016047</td>\n",
              "      <td>Dairy</td>\n",
              "      <td>249.8092</td>\n",
              "      <td>OUT049</td>\n",
              "      <td>1999</td>\n",
              "      <td>Medium</td>\n",
              "      <td>Tier 1</td>\n",
              "      <td>Supermarket Type1</td>\n",
              "      <td>3735.1380</td>\n",
              "    </tr>\n",
              "    <tr>\n",
              "      <th>1</th>\n",
              "      <td>DRC01</td>\n",
              "      <td>5.920</td>\n",
              "      <td>Regular</td>\n",
              "      <td>0.019278</td>\n",
              "      <td>Soft Drinks</td>\n",
              "      <td>48.2692</td>\n",
              "      <td>OUT018</td>\n",
              "      <td>2009</td>\n",
              "      <td>Medium</td>\n",
              "      <td>Tier 3</td>\n",
              "      <td>Supermarket Type2</td>\n",
              "      <td>443.4228</td>\n",
              "    </tr>\n",
              "    <tr>\n",
              "      <th>2</th>\n",
              "      <td>FDN15</td>\n",
              "      <td>17.500</td>\n",
              "      <td>Low Fat</td>\n",
              "      <td>0.016760</td>\n",
              "      <td>Meat</td>\n",
              "      <td>141.6180</td>\n",
              "      <td>OUT049</td>\n",
              "      <td>1999</td>\n",
              "      <td>Medium</td>\n",
              "      <td>Tier 1</td>\n",
              "      <td>Supermarket Type1</td>\n",
              "      <td>2097.2700</td>\n",
              "    </tr>\n",
              "    <tr>\n",
              "      <th>4</th>\n",
              "      <td>NCD19</td>\n",
              "      <td>8.930</td>\n",
              "      <td>Low Fat</td>\n",
              "      <td>0.000000</td>\n",
              "      <td>Household</td>\n",
              "      <td>53.8614</td>\n",
              "      <td>OUT013</td>\n",
              "      <td>1987</td>\n",
              "      <td>High</td>\n",
              "      <td>Tier 3</td>\n",
              "      <td>Supermarket Type1</td>\n",
              "      <td>994.7052</td>\n",
              "    </tr>\n",
              "    <tr>\n",
              "      <th>5</th>\n",
              "      <td>FDP36</td>\n",
              "      <td>10.395</td>\n",
              "      <td>Regular</td>\n",
              "      <td>0.000000</td>\n",
              "      <td>Baking Goods</td>\n",
              "      <td>51.4008</td>\n",
              "      <td>OUT018</td>\n",
              "      <td>2009</td>\n",
              "      <td>Medium</td>\n",
              "      <td>Tier 3</td>\n",
              "      <td>Supermarket Type2</td>\n",
              "      <td>556.6088</td>\n",
              "    </tr>\n",
              "  </tbody>\n",
              "</table>\n",
              "</div>\n",
              "      <button class=\"colab-df-convert\" onclick=\"convertToInteractive('df-3ec5c56e-b9d3-4550-a91b-5acd2aebef27')\"\n",
              "              title=\"Convert this dataframe to an interactive table.\"\n",
              "              style=\"display:none;\">\n",
              "        \n",
              "  <svg xmlns=\"http://www.w3.org/2000/svg\" height=\"24px\"viewBox=\"0 0 24 24\"\n",
              "       width=\"24px\">\n",
              "    <path d=\"M0 0h24v24H0V0z\" fill=\"none\"/>\n",
              "    <path d=\"M18.56 5.44l.94 2.06.94-2.06 2.06-.94-2.06-.94-.94-2.06-.94 2.06-2.06.94zm-11 1L8.5 8.5l.94-2.06 2.06-.94-2.06-.94L8.5 2.5l-.94 2.06-2.06.94zm10 10l.94 2.06.94-2.06 2.06-.94-2.06-.94-.94-2.06-.94 2.06-2.06.94z\"/><path d=\"M17.41 7.96l-1.37-1.37c-.4-.4-.92-.59-1.43-.59-.52 0-1.04.2-1.43.59L10.3 9.45l-7.72 7.72c-.78.78-.78 2.05 0 2.83L4 21.41c.39.39.9.59 1.41.59.51 0 1.02-.2 1.41-.59l7.78-7.78 2.81-2.81c.8-.78.8-2.07 0-2.86zM5.41 20L4 18.59l7.72-7.72 1.47 1.35L5.41 20z\"/>\n",
              "  </svg>\n",
              "      </button>\n",
              "      \n",
              "  <style>\n",
              "    .colab-df-container {\n",
              "      display:flex;\n",
              "      flex-wrap:wrap;\n",
              "      gap: 12px;\n",
              "    }\n",
              "\n",
              "    .colab-df-convert {\n",
              "      background-color: #E8F0FE;\n",
              "      border: none;\n",
              "      border-radius: 50%;\n",
              "      cursor: pointer;\n",
              "      display: none;\n",
              "      fill: #1967D2;\n",
              "      height: 32px;\n",
              "      padding: 0 0 0 0;\n",
              "      width: 32px;\n",
              "    }\n",
              "\n",
              "    .colab-df-convert:hover {\n",
              "      background-color: #E2EBFA;\n",
              "      box-shadow: 0px 1px 2px rgba(60, 64, 67, 0.3), 0px 1px 3px 1px rgba(60, 64, 67, 0.15);\n",
              "      fill: #174EA6;\n",
              "    }\n",
              "\n",
              "    [theme=dark] .colab-df-convert {\n",
              "      background-color: #3B4455;\n",
              "      fill: #D2E3FC;\n",
              "    }\n",
              "\n",
              "    [theme=dark] .colab-df-convert:hover {\n",
              "      background-color: #434B5C;\n",
              "      box-shadow: 0px 1px 3px 1px rgba(0, 0, 0, 0.15);\n",
              "      filter: drop-shadow(0px 1px 2px rgba(0, 0, 0, 0.3));\n",
              "      fill: #FFFFFF;\n",
              "    }\n",
              "  </style>\n",
              "\n",
              "      <script>\n",
              "        const buttonEl =\n",
              "          document.querySelector('#df-3ec5c56e-b9d3-4550-a91b-5acd2aebef27 button.colab-df-convert');\n",
              "        buttonEl.style.display =\n",
              "          google.colab.kernel.accessAllowed ? 'block' : 'none';\n",
              "\n",
              "        async function convertToInteractive(key) {\n",
              "          const element = document.querySelector('#df-3ec5c56e-b9d3-4550-a91b-5acd2aebef27');\n",
              "          const dataTable =\n",
              "            await google.colab.kernel.invokeFunction('convertToInteractive',\n",
              "                                                     [key], {});\n",
              "          if (!dataTable) return;\n",
              "\n",
              "          const docLinkHtml = 'Like what you see? Visit the ' +\n",
              "            '<a target=\"_blank\" href=https://colab.research.google.com/notebooks/data_table.ipynb>data table notebook</a>'\n",
              "            + ' to learn more about interactive tables.';\n",
              "          element.innerHTML = '';\n",
              "          dataTable['output_type'] = 'display_data';\n",
              "          await google.colab.output.renderOutput(dataTable, element);\n",
              "          const docLink = document.createElement('div');\n",
              "          docLink.innerHTML = docLinkHtml;\n",
              "          element.appendChild(docLink);\n",
              "        }\n",
              "      </script>\n",
              "    </div>\n",
              "  </div>\n",
              "  "
            ],
            "text/plain": [
              "  Item_Identifier  Item_Weight  ...        Outlet_Type  Item_Outlet_Sales\n",
              "0           FDA15        9.300  ...  Supermarket Type1          3735.1380\n",
              "1           DRC01        5.920  ...  Supermarket Type2           443.4228\n",
              "2           FDN15       17.500  ...  Supermarket Type1          2097.2700\n",
              "4           NCD19        8.930  ...  Supermarket Type1           994.7052\n",
              "5           FDP36       10.395  ...  Supermarket Type2           556.6088\n",
              "\n",
              "[5 rows x 12 columns]"
            ]
          },
          "metadata": {},
          "execution_count": 34
        }
      ]
    },
    {
      "cell_type": "code",
      "source": [
        "avg_price_by_items=Big_mart_data.groupby(by='Item_Type').Item_MRP.mean()[:10]"
      ],
      "metadata": {
        "id": "FbiadQkIZcvD"
      },
      "execution_count": null,
      "outputs": []
    },
    {
      "cell_type": "code",
      "source": [
        "avg_price_by_items"
      ],
      "metadata": {
        "colab": {
          "base_uri": "https://localhost:8080/"
        },
        "id": "r45h88j3aRAa",
        "outputId": "a559b9ce-e049-493a-9ea7-c0029821ce11"
      },
      "execution_count": null,
      "outputs": [
        {
          "output_type": "execute_result",
          "data": {
            "text/plain": [
              "Item_Type\n",
              "Baking Goods             125.795653\n",
              "Breads                   141.300639\n",
              "Breakfast                134.090683\n",
              "Canned                   138.551179\n",
              "Dairy                    149.481471\n",
              "Frozen Foods             140.095830\n",
              "Fruits and Vegetables    145.418257\n",
              "Hard Drinks              140.102908\n",
              "Health and Hygiene       131.437324\n",
              "Household                149.884244\n",
              "Name: Item_MRP, dtype: float64"
            ]
          },
          "metadata": {},
          "execution_count": 36
        }
      ]
    },
    {
      "cell_type": "markdown",
      "source": [
        "# Line chart"
      ],
      "metadata": {
        "id": "lpIGcyvbg6IU"
      }
    },
    {
      "cell_type": "code",
      "source": [
        "x=avg_price_by_items.index.tolist()\n",
        "y=avg_price_by_items.values.tolist()\n",
        "plt.figure(figsize=(20,10))\n",
        "plt.xlabel('Item Types')\n",
        "plt.ylabel('Item MRP')\n",
        "plt.title('\\n mean price for each items')\n",
        "plt.plot(x,y)"
      ],
      "metadata": {
        "colab": {
          "base_uri": "https://localhost:8080/",
          "height": 654
        },
        "id": "Fst8QKVNaTZN",
        "outputId": "577ea7cf-e79c-4368-be06-375e11658fb5"
      },
      "execution_count": null,
      "outputs": [
        {
          "output_type": "execute_result",
          "data": {
            "text/plain": [
              "[<matplotlib.lines.Line2D at 0x7f2919431cd0>]"
            ]
          },
          "metadata": {},
          "execution_count": 37
        },
        {
          "output_type": "display_data",
          "data": {
            "image/png": "[encoded data removed]",
            "text/plain": [
              "<Figure size 1440x720 with 1 Axes>"
            ]
          },
          "metadata": {
            "needs_background": "light"
          }
        }
      ]
    },
    {
      "cell_type": "markdown",
      "source": [
        "# Bar chart"
      ],
      "metadata": {
        "id": "ytlI8yGEg_Bt"
      }
    },
    {
      "cell_type": "code",
      "source": [
        "# the data visualisation between Outlet_Size and Item_Outlet_Sales\n",
        "#grouping the data that we gonna visualise\n",
        "sales_by_outlet_size=Big_mart_data.groupby(by='Outlet_Size').Item_Outlet_Sales.mean()\n",
        "sales_by_outlet_size"
      ],
      "metadata": {
        "id": "NOQGGIQrd3Ec",
        "colab": {
          "base_uri": "https://localhost:8080/"
        },
        "outputId": "de0373ad-fe3a-43af-f668-b66cba4fdb61"
      },
      "execution_count": null,
      "outputs": [
        {
          "output_type": "execute_result",
          "data": {
            "text/plain": [
              "Outlet_Size\n",
              "High      2298.995256\n",
              "Medium    2172.116599\n",
              "Small     2358.343066\n",
              "Name: Item_Outlet_Sales, dtype: float64"
            ]
          },
          "metadata": {},
          "execution_count": 40
        }
      ]
    },
    {
      "cell_type": "code",
      "source": [
        "x=sales_by_outlet_size.index.tolist()\n",
        "y=sales_by_outlet_size.values.tolist()\n",
        "plt.bar(x,y,color=['red','green','blue']);"
      ],
      "metadata": {
        "colab": {
          "base_uri": "https://localhost:8080/",
          "height": 265
        },
        "id": "bfbG9TIUjl-S",
        "outputId": "38e2a7f0-df55-45e4-a6d3-273087454f7f"
      },
      "execution_count": null,
      "outputs": [
        {
          "output_type": "display_data",
          "data": {
            "image/png": "[encoded data removed]",
            "text/plain": [
              "<Figure size 432x288 with 1 Axes>"
            ]
          },
          "metadata": {
            "needs_background": "light"
          }
        }
      ]
    },
    {
      "cell_type": "markdown",
      "source": [
        "# Data visualisation by Histogram"
      ],
      "metadata": {
        "id": "DIauv5AAq_3k"
      }
    },
    {
      "cell_type": "code",
      "source": [
        "plt.title('Item weight distribution')\n",
        "plt.xlabel('Item Weight')\n",
        "plt.ylabel('frequency')\n",
        "plt.hist(Big_mart_data['Item_Weight'],color='lightblue');"
      ],
      "metadata": {
        "colab": {
          "base_uri": "https://localhost:8080/",
          "height": 295
        },
        "id": "0YQMNObpkPkR",
        "outputId": "a746629f-55a1-4753-cd72-4c6f411b8ee8"
      },
      "execution_count": null,
      "outputs": [
        {
          "output_type": "display_data",
          "data": {
            "image/png": "[encoded data removed]",
            "text/plain": [
              "<Figure size 432x288 with 1 Axes>"
            ]
          },
          "metadata": {
            "needs_background": "light"
          }
        }
      ]
    },
    {
      "cell_type": "markdown",
      "source": [
        "# Data visualisation by Box plot"
      ],
      "metadata": {
        "id": "oxw0I7LUug_d"
      }
    },
    {
      "cell_type": "code",
      "source": [
        "sales_dist=Big_mart_data[['Item_Outlet_Sales']]\n",
        "plt.title('Item sales distribution')\n",
        "red_diamond=dict(markerfacecolor='r', marker='D')\n",
        "plt.boxplot(sales_dist.values,flierprops=red_diamond);\n",
        "plt.figure(figsize=(5,5));\n"
      ],
      "metadata": {
        "colab": {
          "base_uri": "https://localhost:8080/",
          "height": 298
        },
        "id": "QrtjcWYlwTwb",
        "outputId": "b2661a84-bd11-44a3-8f8c-8f7f2f9e88cf"
      },
      "execution_count": null,
      "outputs": [
        {
          "output_type": "display_data",
          "data": {
            "image/png": "[encoded data removed]",
            "text/plain": [
              "<Figure size 432x288 with 1 Axes>"
            ]
          },
          "metadata": {
            "needs_background": "light"
          }
        },
        {
          "output_type": "display_data",
          "data": {
            "text/plain": [
              "<Figure size 360x360 with 0 Axes>"
            ]
          },
          "metadata": {}
        }
      ]
    },
    {
      "cell_type": "code",
      "source": [
        "data=Big_mart_data[['Item_Weight', 'Item_MRP']]\n",
        "fig,ax=plt.subplots();\n",
        "plt.boxplot(data.values,labels=['Item_Weight', 'Item_MRP']);"
      ],
      "metadata": {
        "colab": {
          "base_uri": "https://localhost:8080/",
          "height": 266
        },
        "id": "6n-XkX0Ywow8",
        "outputId": "597b1ad9-484e-4ecb-cadc-b5764fba96f9"
      },
      "execution_count": null,
      "outputs": [
        {
          "output_type": "display_data",
          "data": {
            "image/png": "[encoded data removed]",
            "text/plain": [
              "<Figure size 432x288 with 1 Axes>"
            ]
          },
          "metadata": {
            "needs_background": "light"
          }
        }
      ]
    },
    {
      "cell_type": "markdown",
      "source": [
        "# Violin Plots\n",
        "- **Density distribution of Item weights and Item price**"
      ],
      "metadata": {
        "id": "mD1QtIc11RVl"
      }
    },
    {
      "cell_type": "code",
      "source": [
        "data=Big_mart_data[['Item_Weight', 'Item_MRP']]\n",
        "fig,ax=plt.subplots();\n",
        "plt.xticks(ticks=[1,2],labels=['Item_Weight', 'Item_MRP'])\n",
        "plt.violinplot(data.values);"
      ],
      "metadata": {
        "colab": {
          "base_uri": "https://localhost:8080/",
          "height": 266
        },
        "id": "GOCtWO360Xza",
        "outputId": "603552bc-cc86-4276-d0ea-ba6437fc4662"
      },
      "execution_count": null,
      "outputs": [
        {
          "output_type": "display_data",
          "data": {
            "image/png": "[encoded data removed]",
            "text/plain": [
              "<Figure size 432x288 with 1 Axes>"
            ]
          },
          "metadata": {
            "needs_background": "light"
          }
        }
      ]
    },
    {
      "cell_type": "markdown",
      "source": [
        "# scatter plots"
      ],
      "metadata": {
        "id": "svP4eH8q3xli"
      }
    },
    {
      "cell_type": "code",
      "source": [
        "# set label of axes \n",
        "plt.xlabel('Item_Weight')\n",
        "plt.ylabel('Item_Visibility')\n",
        "\n",
        "# plot\n",
        "plt.scatter(Big_mart_data[\"Item_Weight\"][:200], Big_mart_data[\"Item_Visibility\"][:200])"
      ],
      "metadata": {
        "colab": {
          "base_uri": "https://localhost:8080/",
          "height": 297
        },
        "id": "cbB_euxg1-ym",
        "outputId": "76f764c7-5b2d-4453-9b34-5f4d67cf64ae"
      },
      "execution_count": null,
      "outputs": [
        {
          "output_type": "execute_result",
          "data": {
            "text/plain": [
              "<matplotlib.collections.PathCollection at 0x7f28d51f9590>"
            ]
          },
          "metadata": {},
          "execution_count": 82
        },
        {
          "output_type": "display_data",
          "data": {
            "image/png": "[encoded data removed]",
            "text/plain": [
              "<Figure size 432x288 with 1 Axes>"
            ]
          },
          "metadata": {
            "needs_background": "light"
          }
        }
      ]
    },
    {
      "cell_type": "code",
      "source": [
        ""
      ],
      "metadata": {
        "id": "tgCRhhut3-WK"
      },
      "execution_count": null,
      "outputs": []
    }
  ]
}